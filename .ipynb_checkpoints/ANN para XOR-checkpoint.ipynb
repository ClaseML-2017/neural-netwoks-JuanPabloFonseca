{
 "cells": [
  {
   "cell_type": "markdown",
   "metadata": {},
   "source": [
    "### ANN para XOR\n",
    "### Juan Pablo Fonseca 138263"
   ]
  },
  {
   "cell_type": "code",
   "execution_count": 98,
   "metadata": {
    "collapsed": true
   },
   "outputs": [],
   "source": [
    "import tensorflow as tf # importamos librerias\n",
    "from __future__ import division\n",
    "import numpy as np\n",
    "import matplotlib.pyplot as plt\n",
    "import pandas as pd\n",
    "%matplotlib inline"
   ]
  },
  {
   "cell_type": "code",
   "execution_count": 100,
   "metadata": {
    "collapsed": true
   },
   "outputs": [],
   "source": [
    "# variables\n",
    "X = np.asarray([[0,0],[0,1],[1,0],[1,1]])\n",
    "Y = np.asarray([[0],[1],[1],[0]])\n",
    "input_size = 2\n",
    "middle_layer = 2\n",
    "hidden_layers = 2\n",
    "output_size = 1\n",
    "\n",
    "x = tf.placeholder(tf.float32,shape=[None,input_size])\n",
    "y_ = tf.placeholder(tf.float32,shape=[None,output_size])"
   ]
  },
  {
   "cell_type": "code",
   "execution_count": 103,
   "metadata": {
    "collapsed": true
   },
   "outputs": [],
   "source": [
    "W_layer1= tf.Variable(tf.random_uniform([input_size,middle_layer], -1, 1), name=\"W_layer1\")\n",
    "b_layer1= tf.Variable(tf.zeros([middle_layer]), name=\"b_layer1\")\n",
    "W_layer2= tf.Variable(tf.random_uniform([hidden_layers,output_size], -1, 1), name=\"W_layer2\")\n",
    "b_layer2= tf.Variable(tf.zeros([output_size]), name=\"b_layer2\")"
   ]
  },
  {
   "cell_type": "code",
   "execution_count": 104,
   "metadata": {},
   "outputs": [],
   "source": [
    "hidden_1=tf.nn.sigmoid(tf.matmul(x,W_layer1)+b_layer1)\n",
    "y= tf.nn.sigmoid(tf.matmul(hidden_1,W_layer2)+b_layer2) \n",
    "lossfn = tf.reduce_mean(tf.reduce_sum((y_-y)**2)) \n",
    "train_step = tf.train.GradientDescentOptimizer(0.01).minimize(lossfn)\n",
    "init = tf.global_variables_initializer()\n",
    "sess = tf.Session()"
   ]
  },
  {
   "cell_type": "code",
   "execution_count": 106,
   "metadata": {},
   "outputs": [
    {
     "name": "stdout",
     "output_type": "stream",
     "text": [
      "[[ 0.74673152]]\n",
      "[[ 3.12172151 -5.43730211]\n",
      " [ 3.09697223 -5.24757338]]\n"
     ]
    }
   ],
   "source": [
    "sess.run(init)\n",
    "for i in range(30000):\n",
    "  sess.run(train_step, feed_dict={x: X, y_: Y})\n",
    "print(sess.run(y, feed_dict={x:[[0.8,0.5]]}))\n",
    "print(sess.run(W_layer1, feed_dict={x: X, y_: Y}))"
   ]
  },
  {
   "cell_type": "markdown",
   "metadata": {},
   "source": [
    "### Error"
   ]
  },
  {
   "cell_type": "code",
   "execution_count": 107,
   "metadata": {},
   "outputs": [
    {
     "name": "stdout",
     "output_type": "stream",
     "text": [
      "1.0\n"
     ]
    }
   ],
   "source": [
    "predCorrecta = tf.equal(tf.round(y),y_)\n",
    "accuracy = tf.reduce_mean(tf.cast(predCorrecta, tf.float32))\n",
    "print(sess.run(accuracy, feed_dict={x: X, y_: Y}))"
   ]
  },
  {
   "cell_type": "code",
   "execution_count": 116,
   "metadata": {
    "collapsed": true
   },
   "outputs": [],
   "source": [
    "w1=[sess.run(b_layer1, feed_dict={x: X, y_: Y})[1]]+[i[0] for i in sess.run(W_layer1, feed_dict={x: X, y_: Y})]\n",
    "w2=[sess.run(b_layer2, feed_dict={x: X, y_: Y})]+[i[0] for i in sess.run(W_layer2, feed_dict={x: X, y_: Y})]\n",
    "m1=((w1[0]/w1[2]))/((-w1[0]/w1[1]))\n",
    "m2=((w2[0]/w2[2]))/((-w2[0]/w2[1]))"
   ]
  },
  {
   "cell_type": "code",
   "execution_count": 118,
   "metadata": {},
   "outputs": [
    {
     "data": {
      "text/plain": [
       "(-0.5, 1.5)"
      ]
     },
     "execution_count": 118,
     "metadata": {},
     "output_type": "execute_result"
    },
    {
     "data": {
      "image/png": "[encoded data removed]",
      "text/plain": [
       "<matplotlib.figure.Figure at 0x7f38a855ee80>"
      ]
     },
     "metadata": {},
     "output_type": "display_data"
    }
   ],
   "source": [
    "# graficarlo\n",
    "plt.scatter(X[:,0],X[:,1],c=['red' if i==1 else 'blue' for i in Y])\n",
    "x2 = np.linspace(-0.5,1.5,100)\n",
    "plt.plot(x2,-w1[0]/w1[2]+m1*x2,color='orange')\n",
    "plt.plot(x2,-w2[0]/w2[2]+m2*x2,color='orange')\n",
    "plt.ylim([-0.5,1.5])\n",
    "plt.xlim([-0.5,1.5])"
   ]
  },
  {
   "cell_type": "code",
   "execution_count": 119,
   "metadata": {
    "collapsed": true
   },
   "outputs": [],
   "source": [
    "sess.close()"
   ]
  },
  {
   "cell_type": "code",
   "execution_count": null,
   "metadata": {
    "collapsed": true
   },
   "outputs": [],
   "source": []
  }
 ],
 "metadata": {
  "anaconda-cloud": {},
  "kernelspec": {
   "display_name": "Python 2",
   "language": "python",
   "name": "python2"
  },
  "language_info": {
   "codemirror_mode": {
    "name": "ipython",
    "version": 2
   },
   "file_extension": ".py",
   "mimetype": "text/x-python",
   "name": "python",
   "nbconvert_exporter": "python",
   "pygments_lexer": "ipython2",
   "version": "2.7.6"
  }
 },
 "nbformat": 4,
 "nbformat_minor": 1
}
