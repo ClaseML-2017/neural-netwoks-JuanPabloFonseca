{
 "cells": [
  {
   "cell_type": "markdown",
   "metadata": {},
   "source": [
    "### Juan Pablo Fonseca Correa - 138263"
   ]
  },
  {
   "cell_type": "code",
   "execution_count": 9,
   "metadata": {
    "collapsed": true
   },
   "outputs": [],
   "source": [
    "# importar librerías y leer la base de datos\n",
    "import pandas as pd\n",
    "import numpy as np\n",
    "from scipy import sparse\n",
    "from sys import maxint\n",
    "from math import pow\n",
    "from math import fabs\n",
    "from __future__ import division\n",
    "from scipy.stats import norm\n",
    "from sklearn.model_selection import train_test_split\n",
    "from sklearn.metrics import confusion_matrix\n",
    "from sklearn.metrics import mean_squared_error\n",
    "from sklearn.metrics import roc_curve\n",
    "from sklearn.metrics import roc_auc_score\n",
    "from sklearn import linear_model\n",
    "from sklearn import preprocessing\n",
    "import matplotlib.pyplot as plt\n",
    "from random import uniform\n",
    "df = pd.read_csv('EjercicioROC.csv') # leo la bd"
   ]
  },
  {
   "cell_type": "code",
   "execution_count": 2,
   "metadata": {},
   "outputs": [],
   "source": [
    "df = df.iloc[0:10116,:2] # esto es lo único que me interesa de la tabla"
   ]
  },
  {
   "cell_type": "code",
   "execution_count": 3,
   "metadata": {
    "collapsed": true
   },
   "outputs": [],
   "source": [
    "th = np.linspace(0,1,201)\n",
    "tpr = []\n",
    "fpr = []\n",
    "max_precision = 0\n",
    "max_accuracy = 0\n",
    "th_max_accuracy = 0\n",
    "th_max_precision = 0\n",
    "for i in th:\n",
    "    tp = 0\n",
    "    fp = 0\n",
    "    tn = 0\n",
    "    fn = 0\n",
    "    for j in range(len(df)):\n",
    "        if(df.iloc[j,0]>=i):\n",
    "            if(df.iloc[j,1]==1):\n",
    "                tp = tp + 1\n",
    "            else:\n",
    "                fp = fp + 1\n",
    "        else:\n",
    "            if(df.iloc[j,1]==1):\n",
    "                fn = fn + 1\n",
    "            else:\n",
    "                tn = tn + 1\n",
    "    tpr.append(tp/(tp+fn))\n",
    "    fpr.append(fp/(fp+tn))\n",
    "    if tp+fp > 0:\n",
    "        precision = tp/(tp+fp)\n",
    "        if precision > max_precision:\n",
    "            max_precision = precision\n",
    "            th_max_precision = i\n",
    "    accuracy = (tp+tn)/(tp+fp+tn+fn)\n",
    "    if accuracy > max_accuracy:\n",
    "        max_accuracy = accuracy\n",
    "        th_max_accuracy = i\n"
   ]
  },
  {
   "cell_type": "code",
   "execution_count": 4,
   "metadata": {},
   "outputs": [
    {
     "name": "stdout",
     "output_type": "stream",
     "text": [
      "Threshold de máxima precision: 0.235\n",
      "Threshold de máximo accuracy: 0.435\n"
     ]
    }
   ],
   "source": [
    "print \"Threshold de máxima precision: {0}\".format(th_max_precision)\n",
    "print \"Threshold de máximo accuracy: {0}\".format(th_max_accuracy)"
   ]
  },
  {
   "cell_type": "code",
   "execution_count": 5,
   "metadata": {},
   "outputs": [
    {
     "data": {
      "image/png": "[encoded data removed]",
      "text/plain": [
       "<matplotlib.figure.Figure at 0x1f1645c0>"
      ]
     },
     "metadata": {},
     "output_type": "display_data"
    },
    {
     "name": "stdout",
     "output_type": "stream",
     "text": [
      "Curva ROC\n"
     ]
    }
   ],
   "source": [
    "plt.plot(fpr,tpr,color=\"blue\") # curva ROC\n",
    "plt.plot(fpr,fpr,color=\"red\") # diagonal\n",
    "# plt.scatter(fpr[np.where(th == th_max_precision)[0][0]],tpr[np.where(th == th_max_precision)[0][0]],color = \"orange\")\n",
    "# plt.scatter(fpr[np.where(th == th_max_accuracy)[0][0]],tpr[np.where(th == th_max_accuracy)[0][0]],color = \"green\")\n",
    "plt.show()\n",
    "print \"Curva ROC\"\n",
    "# print \"Naranja: punto de máxima precision. Verde: punto de máximo accuracy.\""
   ]
  },
  {
   "cell_type": "markdown",
   "metadata": {},
   "source": [
    "### Ahora, se hará con el paquete de sklearn:"
   ]
  },
  {
   "cell_type": "code",
   "execution_count": 10,
   "metadata": {},
   "outputs": [
    {
     "data": {
      "image/png": "[encoded data removed]",
      "text/plain": [
       "<matplotlib.figure.Figure at 0x1f8c8e80>"
      ]
     },
     "metadata": {},
     "output_type": "display_data"
    },
    {
     "name": "stdout",
     "output_type": "stream",
     "text": [
      "El área bajo la curva es 0.925404322443\n"
     ]
    }
   ],
   "source": [
    "true_labels = df.iloc[0:10116,1]\n",
    "scores = df.iloc[0:10116,0]\n",
    "fp_rate, tp_rate, thres = roc_curve(true_labels,scores)\n",
    "plt.plot(fp_rate,tp_rate)\n",
    "plt.show()\n",
    "area = roc_auc_score(true_labels,scores)\n",
    "print \"El área bajo la curva es {0}\".format(area)"
   ]
  },
  {
   "cell_type": "code",
   "execution_count": null,
   "metadata": {
    "collapsed": true
   },
   "outputs": [],
   "source": []
  }
 ],
 "metadata": {
  "kernelspec": {
   "display_name": "Python 2",
   "language": "python",
   "name": "python2"
  },
  "language_info": {
   "codemirror_mode": {
    "name": "ipython",
    "version": 2
   },
   "file_extension": ".py",
   "mimetype": "text/x-python",
   "name": "python",
   "nbconvert_exporter": "python",
   "pygments_lexer": "ipython2",
   "version": "2.7.6"
  }
 },
 "nbformat": 4,
 "nbformat_minor": 2
}
